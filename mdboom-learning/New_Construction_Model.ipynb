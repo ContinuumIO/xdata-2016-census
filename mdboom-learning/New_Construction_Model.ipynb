{
 "cells": [
  {
   "cell_type": "markdown",
   "metadata": {},
   "source": [
    "## Build models\n",
    "\n",
    "Build a model to evaluation new construction vs. renovation on a data set.\n",
    "\n",
    "(Run the \"Data Normalizing\" notebooks first to create a data set).\n",
    "\n",
    "Michael Droettboom, based on work by Aron Ahmadia"
   ]
  },
  {
   "cell_type": "markdown",
   "metadata": {},
   "source": [
    "The analysis requires a Python installation with scikit-learn,\n",
    "pandas, and matplotlib installed for full functionality.  I highly recommend the\n",
    "Anaconda distribution for fulling the dependencies.  The exact versions of\n",
    "the major software used in my analysis are:\n",
    "\n",
    "* Python 3.5.1\n",
    "* Bokeh 0.10.0\n",
    "* Scikit-Learn 0.17.0\n",
    "* Pandas 0.17.1\n",
    "* Jupyter 1.0.0 (meta-package for Jupyter 4)\n",
    "* Matplotlib 1.5.0"
   ]
  },
  {
   "cell_type": "code",
   "execution_count": 20,
   "metadata": {
    "collapsed": false
   },
   "outputs": [],
   "source": [
    "%matplotlib inline"
   ]
  },
  {
   "cell_type": "code",
   "execution_count": 21,
   "metadata": {
    "collapsed": false
   },
   "outputs": [],
   "source": [
    "import sys\n",
    "import numpy as np\n",
    "import matplotlib.pyplot as plt\n",
    "import pandas as pd\n",
    "import datetime\n",
    "from sklearn.preprocessing import StandardScaler, Imputer\n",
    "from sklearn.svm import SVC, LinearSVC\n",
    "from sklearn.decomposition import PCA\n",
    "from sklearn.cross_validation import cross_val_score\n",
    "from sklearn.learning_curve import learning_curve\n",
    "from sklearn.feature_selection import f_regression, SelectKBest\n",
    "from sklearn.pipeline import Pipeline\n",
    "from sklearn.ensemble import RandomForestRegressor\n",
    "from sklearn.grid_search import GridSearchCV\n",
    "from sklearn.metrics import mean_squared_error"
   ]
  },
  {
   "cell_type": "code",
   "execution_count": 22,
   "metadata": {
    "collapsed": false,
    "scrolled": true
   },
   "outputs": [],
   "source": [
    "# load TSV into pandas as DataFrame\n",
    "\n",
    "df = pd.read_csv('missouri-normal.csv') \n",
    "# or\n",
    "# df = pd.read_csv('seattle.csv')"
   ]
  },
  {
   "cell_type": "code",
   "execution_count": 23,
   "metadata": {
    "collapsed": false
   },
   "outputs": [],
   "source": [
    "# Subsample to get about 15000 entries\n",
    "df = df[::int(len(df)/15000)]"
   ]
  },
  {
   "cell_type": "code",
   "execution_count": 24,
   "metadata": {
    "collapsed": false,
    "scrolled": false
   },
   "outputs": [
    {
     "data": {
      "text/html": [
       "<div>\n",
       "<table border=\"1\" class=\"dataframe\">\n",
       "  <thead>\n",
       "    <tr style=\"text-align: right;\">\n",
       "      <th></th>\n",
       "      <th>Unnamed: 0</th>\n",
       "      <th>day</th>\n",
       "      <th>dwelling_units_gained_or_lost</th>\n",
       "      <th>month</th>\n",
       "      <th>permit_value</th>\n",
       "      <th>structure_class</th>\n",
       "      <th>year</th>\n",
       "      <th>target</th>\n",
       "    </tr>\n",
       "  </thead>\n",
       "  <tbody>\n",
       "    <tr>\n",
       "      <th>count</th>\n",
       "      <td>15259.000000</td>\n",
       "      <td>15259.000000</td>\n",
       "      <td>15259.000000</td>\n",
       "      <td>15259.000000</td>\n",
       "      <td>15259.000000</td>\n",
       "      <td>3137.000000</td>\n",
       "      <td>15259.000000</td>\n",
       "      <td>15259</td>\n",
       "    </tr>\n",
       "    <tr>\n",
       "      <th>mean</th>\n",
       "      <td>132175.828429</td>\n",
       "      <td>14.238286</td>\n",
       "      <td>0.657448</td>\n",
       "      <td>6.568648</td>\n",
       "      <td>83390.830985</td>\n",
       "      <td>219.719796</td>\n",
       "      <td>1988.042074</td>\n",
       "      <td>0.310833</td>\n",
       "    </tr>\n",
       "    <tr>\n",
       "      <th>std</th>\n",
       "      <td>55130.689365</td>\n",
       "      <td>9.401285</td>\n",
       "      <td>3.163857</td>\n",
       "      <td>3.222907</td>\n",
       "      <td>576445.297343</td>\n",
       "      <td>192.063475</td>\n",
       "      <td>11.166400</td>\n",
       "      <td>0.46285</td>\n",
       "    </tr>\n",
       "    <tr>\n",
       "      <th>min</th>\n",
       "      <td>38602.000000</td>\n",
       "      <td>0.000000</td>\n",
       "      <td>0.000000</td>\n",
       "      <td>1.000000</td>\n",
       "      <td>0.000000</td>\n",
       "      <td>0.000000</td>\n",
       "      <td>1970.000000</td>\n",
       "      <td>False</td>\n",
       "    </tr>\n",
       "    <tr>\n",
       "      <th>25%</th>\n",
       "      <td>80561.500000</td>\n",
       "      <td>6.000000</td>\n",
       "      <td>0.000000</td>\n",
       "      <td>4.000000</td>\n",
       "      <td>1100.000000</td>\n",
       "      <td>97.000000</td>\n",
       "      <td>1978.000000</td>\n",
       "      <td>0</td>\n",
       "    </tr>\n",
       "    <tr>\n",
       "      <th>50%</th>\n",
       "      <td>138601.000000</td>\n",
       "      <td>14.000000</td>\n",
       "      <td>0.000000</td>\n",
       "      <td>7.000000</td>\n",
       "      <td>10000.000000</td>\n",
       "      <td>101.000000</td>\n",
       "      <td>1988.000000</td>\n",
       "      <td>0</td>\n",
       "    </tr>\n",
       "    <tr>\n",
       "      <th>75%</th>\n",
       "      <td>180560.500000</td>\n",
       "      <td>22.000000</td>\n",
       "      <td>1.000000</td>\n",
       "      <td>9.000000</td>\n",
       "      <td>58561.500000</td>\n",
       "      <td>434.000000</td>\n",
       "      <td>1998.000000</td>\n",
       "      <td>1</td>\n",
       "    </tr>\n",
       "    <tr>\n",
       "      <th>max</th>\n",
       "      <td>222520.000000</td>\n",
       "      <td>31.000000</td>\n",
       "      <td>163.000000</td>\n",
       "      <td>12.000000</td>\n",
       "      <td>34823025.000000</td>\n",
       "      <td>649.000000</td>\n",
       "      <td>2007.000000</td>\n",
       "      <td>True</td>\n",
       "    </tr>\n",
       "  </tbody>\n",
       "</table>\n",
       "</div>"
      ],
      "text/plain": [
       "          Unnamed: 0           day  dwelling_units_gained_or_lost  \\\n",
       "count   15259.000000  15259.000000                   15259.000000   \n",
       "mean   132175.828429     14.238286                       0.657448   \n",
       "std     55130.689365      9.401285                       3.163857   \n",
       "min     38602.000000      0.000000                       0.000000   \n",
       "25%     80561.500000      6.000000                       0.000000   \n",
       "50%    138601.000000     14.000000                       0.000000   \n",
       "75%    180560.500000     22.000000                       1.000000   \n",
       "max    222520.000000     31.000000                     163.000000   \n",
       "\n",
       "              month     permit_value  structure_class          year    target  \n",
       "count  15259.000000     15259.000000      3137.000000  15259.000000     15259  \n",
       "mean       6.568648     83390.830985       219.719796   1988.042074  0.310833  \n",
       "std        3.222907    576445.297343       192.063475     11.166400   0.46285  \n",
       "min        1.000000         0.000000         0.000000   1970.000000     False  \n",
       "25%        4.000000      1100.000000        97.000000   1978.000000         0  \n",
       "50%        7.000000     10000.000000       101.000000   1988.000000         0  \n",
       "75%        9.000000     58561.500000       434.000000   1998.000000         1  \n",
       "max       12.000000  34823025.000000       649.000000   2007.000000      True  "
      ]
     },
     "execution_count": 24,
     "metadata": {},
     "output_type": "execute_result"
    }
   ],
   "source": [
    "# Some basic information about the dataset\n",
    "# Note that almost all the features appear to be normal distributions\n",
    "# centered on 0 with standard deviation approximately 1.\n",
    "# However, there is a *lot* of missing data.\n",
    "# There probably isn't a need to run through a scaler, but it doesn't do any harm.\n",
    "\n",
    "df.describe()"
   ]
  },
  {
   "cell_type": "code",
   "execution_count": 25,
   "metadata": {
    "collapsed": false
   },
   "outputs": [
    {
     "data": {
      "text/plain": [
       "Index(['day', 'dwelling_units_gained_or_lost', 'month', 'permit_value',\n",
       "       'res_non', 'sf_mf', 'structure_class', 'year', 'type', 'target'],\n",
       "      dtype='object')"
      ]
     },
     "execution_count": 25,
     "metadata": {},
     "output_type": "execute_result"
    }
   ],
   "source": [
    "del df['Unnamed: 0']\n",
    "df.columns"
   ]
  },
  {
   "cell_type": "code",
   "execution_count": 26,
   "metadata": {
    "collapsed": false
   },
   "outputs": [
    {
     "name": "stdout",
     "output_type": "stream",
     "text": [
      "day int64 32\n",
      "dwelling_units_gained_or_lost int64 41\n",
      "month int64 12\n",
      "permit_value float64 3639\n",
      "res_non object 2\n",
      "sf_mf object 3\n",
      "structure_class float64 27\n",
      "year int64 38\n",
      "type object 3\n",
      "target bool 2\n"
     ]
    }
   ],
   "source": [
    "for column in df.columns:\n",
    "    print(column, df[column].dtype, len(pd.unique(df[column])))"
   ]
  },
  {
   "cell_type": "code",
   "execution_count": 27,
   "metadata": {
    "collapsed": false
   },
   "outputs": [],
   "source": [
    "# The 'target' column contains new construction vs. renovation, which is the target of the model\n",
    "\n",
    "target = df['target']\n",
    "del df['target']\n",
    "\n",
    "if 'type' in df.columns:\n",
    "    del df['type']"
   ]
  },
  {
   "cell_type": "code",
   "execution_count": 28,
   "metadata": {
    "collapsed": true
   },
   "outputs": [],
   "source": [
    "dfd = pd.get_dummies(df)"
   ]
  },
  {
   "cell_type": "code",
   "execution_count": 29,
   "metadata": {
    "collapsed": false
   },
   "outputs": [
    {
     "data": {
      "image/png": "[encoded data removed]",
      "text/plain": [
       "<matplotlib.figure.Figure at 0x7f302cbc7668>"
      ]
     },
     "metadata": {},
     "output_type": "display_data"
    }
   ],
   "source": [
    "# Evaluate feasibility of extracting a subset of important features\n",
    "# Looks like a good candidate for k-best feature selection\n",
    "\n",
    "dfi = Imputer().fit_transform(dfd)\n",
    "f, p = f_regression(dfi, target)\n",
    "plt.plot(f, 'bx')\n",
    "plt.gca().set_yscale('log')"
   ]
  },
  {
   "cell_type": "code",
   "execution_count": 30,
   "metadata": {
    "collapsed": false
   },
   "outputs": [
    {
     "data": {
      "text/plain": [
       "[<matplotlib.lines.Line2D at 0x7f3028453c88>]"
      ]
     },
     "execution_count": 30,
     "metadata": {},
     "output_type": "execute_result"
    },
    {
     "data": {
      "image/png": "[encoded data removed]",
      "text/plain": [
       "<matplotlib.figure.Figure at 0x7f302867c2b0>"
      ]
     },
     "metadata": {},
     "output_type": "display_data"
    }
   ],
   "source": [
    "# Evaluate feasibility of extracting a subset of important components\n",
    "# Energy seems to be pretty evenly distributed among principal components\n",
    "# Not a good candidate for extracting principal components\n",
    "\n",
    "pca = PCA()\n",
    "pca.fit(dfi)\n",
    "plt.plot(pca.explained_variance_ratio_, 'bx')"
   ]
  },
  {
   "cell_type": "code",
   "execution_count": 31,
   "metadata": {
    "collapsed": false
   },
   "outputs": [],
   "source": [
    "# We can now conduct a grid search over the hyperparameters of several models to\n",
    "# choose a tuned model\n",
    "\n",
    "imputer = Imputer(strategy=None)\n",
    "scaler = StandardScaler()\n",
    "kbest = SelectKBest(f_regression, k=None)\n",
    "rfr = RandomForestRegressor(n_estimators=None)"
   ]
  },
  {
   "cell_type": "code",
   "execution_count": 32,
   "metadata": {
    "collapsed": false
   },
   "outputs": [],
   "source": [
    "# Helper function to tune the pipeline and print out the tuned parameters\n",
    "\n",
    "def tune_pipeline(fullname, shortname, model, params):\n",
    "    pipeline = Pipeline([('imputer', imputer), ('scaler', scaler), ('kbest', kbest), (shortname, model)])\n",
    "    grid_search = GridSearchCV(pipeline, param_grid=params, scoring='mean_squared_error')\n",
    "    grid_search.fit(dfd, target)\n",
    "    print(\"Results for {}\".format(fullname))\n",
    "    print(grid_search.best_params_)\n",
    "    print(grid_search.best_score_)\n",
    "    return grid_search"
   ]
  },
  {
   "cell_type": "code",
   "execution_count": 33,
   "metadata": {
    "collapsed": false
   },
   "outputs": [
    {
     "name": "stdout",
     "output_type": "stream",
     "text": [
      "Results for Random Forest Regressor\n",
      "{'rfr__n_estimators': 9, 'imputer__strategy': 'mean', 'kbest__k': 9}\n",
      "-0.0511865959193\n"
     ]
    }
   ],
   "source": [
    "# start with a simple random forest as we try to determine the ideal imputer and number of features to select.\n",
    "# Let's try to pick an imputer strategy first.\n",
    "\n",
    "# Note that I hand-picked a few seed values here based on eyeballing earlier plots.\n",
    "\n",
    "tuned = tune_pipeline('Random Forest Regressor', 'rfr', rfr,\n",
    "                      params = dict(imputer__strategy=['mean', 'median', 'most_frequent'],\n",
    "                                    kbest__k=[9],\n",
    "                                    rfr__n_estimators=[9]))"
   ]
  },
  {
   "cell_type": "code",
   "execution_count": 34,
   "metadata": {
    "collapsed": false
   },
   "outputs": [
    {
     "name": "stdout",
     "output_type": "stream",
     "text": [
      "Results for Random Forest Regressor\n",
      "{'rfr__n_estimators': 9, 'imputer__strategy': 'mean', 'kbest__k': 9}\n",
      "-0.0519398657528\n"
     ]
    }
   ],
   "source": [
    "# Okay, now let's try to determine the right number of features to select.  \n",
    "# We know approximately how many we want from the f_regression scores\n",
    "\n",
    "tuned = tune_pipeline('Random Forest Regressor', 'rfr', rfr,\n",
    "                      params = dict(imputer__strategy=[tuned.best_params_['imputer__strategy']],\n",
    "                                    kbest__k=[1, 2, 3, 4, 5, 6, 7, 8, 9],\n",
    "                                    rfr__n_estimators=[9]))"
   ]
  },
  {
   "cell_type": "code",
   "execution_count": 35,
   "metadata": {
    "collapsed": true
   },
   "outputs": [],
   "source": [
    "# Final comparison, learning curves for SVR and a more aggressive RFR\n",
    "# This function is adapted from: http://scikit-learn.org/stable/auto_examples/model_selection/plot_learning_curve.html\n",
    "\n",
    "def plot_learning_curve(estimator, X, y, title=\"Learning Curve\", ylim=None, cv=None, n_jobs=1):\n",
    "    \"\"\"\n",
    "    Generate a simple plot of the test and traning learning curve.\n",
    "\n",
    "    Parameters\n",
    "    ----------\n",
    "    estimator : object type that implements the \"fit\" and \"predict\" methods\n",
    "        An object of that type which is cloned for each validation.\n",
    "\n",
    "    X : array-like, shape (n_samples, n_features)\n",
    "        Training vector, where n_samples is the number of samples and\n",
    "        n_features is the number of features.\n",
    "\n",
    "    y : array-like, shape (n_samples) or (n_samples, n_features), optional\n",
    "        Target relative to X for classification or regression;\n",
    "        None for unsupervised learning.\n",
    "\n",
    "    title : string\n",
    "        Title for the chart.\n",
    "\n",
    "    ylim : tuple, shape (ymin, ymax), optional\n",
    "        Defines minimum and maximum yvalues plotted.\n",
    "\n",
    "    cv : integer, cross-validation generator, optional\n",
    "        If an integer is passed, it is the number of folds (defaults to 3).\n",
    "        Specific cross-validation objects can be passed, see\n",
    "        sklearn.cross_validation module for the list of possible objects\n",
    "\n",
    "    n_jobs : integer, optional\n",
    "        Number of jobs to run in parallel (default -1).\n",
    "    \"\"\"\n",
    "    plt.figure()\n",
    "    plt.title(title)\n",
    "    if ylim is not None:\n",
    "        plt.ylim(*ylim)\n",
    "    plt.xlabel(\"Training examples\")\n",
    "    plt.ylabel(\"Score\")\n",
    "    train_sizes, train_scores, test_scores = learning_curve(\n",
    "        estimator, X, y, cv=cv, n_jobs=n_jobs)\n",
    "    train_scores_mean = np.mean(train_scores, axis=1)\n",
    "    train_scores_std = np.std(train_scores, axis=1)\n",
    "    test_scores_mean = np.mean(test_scores, axis=1)\n",
    "    test_scores_std = np.std(test_scores, axis=1)\n",
    "    plt.grid()\n",
    "\n",
    "    plt.fill_between(train_sizes, train_scores_mean - train_scores_std,\n",
    "                     train_scores_mean + train_scores_std, alpha=0.1,\n",
    "                     color=\"r\")\n",
    "    plt.fill_between(train_sizes, test_scores_mean - test_scores_std,\n",
    "                     test_scores_mean + test_scores_std, alpha=0.1, color=\"g\")\n",
    "    plt.plot(train_sizes, train_scores_mean, 'o-', color=\"r\",\n",
    "             label=\"Training score\")\n",
    "    plt.plot(train_sizes, test_scores_mean, 'o-', color=\"g\",\n",
    "             label=\"Cross-validation score\")\n",
    "\n",
    "    plt.legend(loc=\"best\")"
   ]
  },
  {
   "cell_type": "code",
   "execution_count": 36,
   "metadata": {
    "collapsed": false
   },
   "outputs": [],
   "source": [
    "imputer_prod = Imputer(strategy=tuned.best_params_['imputer__strategy'])\n",
    "scaler_prod = StandardScaler()\n",
    "kbest_prod = SelectKBest(f_regression, tuned.best_params_['kbest__k'])\n",
    "rfr_prod = RandomForestRegressor(n_estimators=100)\n",
    "svc_prod = LinearSVC()\n",
    "svcr_prod = SVC(kernel='rbf')"
   ]
  },
  {
   "cell_type": "code",
   "execution_count": 37,
   "metadata": {
    "collapsed": false
   },
   "outputs": [
    {
     "data": {
      "image/png": "[encoded data removed]",
      "text/plain": [
       "<matplotlib.figure.Figure at 0x7f3028626358>"
      ]
     },
     "metadata": {},
     "output_type": "display_data"
    }
   ],
   "source": [
    "prod_rfr = Pipeline([('imputer', imputer_prod), ('scaler', scaler_prod), \n",
    "                          ('kbest', kbest_prod), ('rfr', rfr_prod)])\n",
    "plot_learning_curve(prod_rfr, dfd, target)"
   ]
  },
  {
   "cell_type": "code",
   "execution_count": 38,
   "metadata": {
    "collapsed": false
   },
   "outputs": [
    {
     "data": {
      "image/png": "[encoded data removed]",
      "text/plain": [
       "<matplotlib.figure.Figure at 0x7f30285780f0>"
      ]
     },
     "metadata": {},
     "output_type": "display_data"
    }
   ],
   "source": [
    "prod_svc = Pipeline([('imputer', imputer_prod), ('scaler', scaler_prod), \n",
    "                          ('kbest', kbest_prod), ('svc', svc_prod)])\n",
    "plot_learning_curve(prod_svc, dfd, target)"
   ]
  },
  {
   "cell_type": "code",
   "execution_count": 39,
   "metadata": {
    "collapsed": false
   },
   "outputs": [
    {
     "data": {
      "image/png": "[encoded data removed]",
      "text/plain": [
       "<matplotlib.figure.Figure at 0x7f302865b208>"
      ]
     },
     "metadata": {},
     "output_type": "display_data"
    }
   ],
   "source": [
    "prod_svcr = Pipeline([('imputer', imputer_prod), ('scaler', scaler_prod), \n",
    "                          ('kbest', kbest_prod), ('svcr', svcr_prod)])\n",
    "plot_learning_curve(prod_svcr, dfd, target)"
   ]
  },
  {
   "cell_type": "code",
   "execution_count": 40,
   "metadata": {
    "collapsed": false
   },
   "outputs": [
    {
     "data": {
      "text/plain": [
       "array([ 0.76410458,  0.85843492,  0.84368856])"
      ]
     },
     "execution_count": 40,
     "metadata": {},
     "output_type": "execute_result"
    }
   ],
   "source": [
    "# without increasing C, the MSE of the cross-validated fit to the training data is around 4\n",
    "\n",
    "cross_val_score(prod_svc, dfd, target)"
   ]
  },
  {
   "cell_type": "code",
   "execution_count": 41,
   "metadata": {
    "collapsed": false
   },
   "outputs": [
    {
     "data": {
      "text/plain": [
       "Pipeline(steps=[('imputer', Imputer(axis=0, copy=True, missing_values='NaN', strategy='mean', verbose=0)), ('scaler', StandardScaler(copy=True, with_mean=True, with_std=True)), ('kbest', SelectKBest(k=9, score_func=<function f_regression at 0x7f302d4a0400>)), ('svc', LinearSVC(C=1.0, class_weight=None, dual=True, fit_intercept=True,\n",
       "     intercept_scaling=1, loss='squared_hinge', max_iter=1000,\n",
       "     multi_class='ovr', penalty='l2', random_state=None, tol=0.0001,\n",
       "     verbose=0))])"
      ]
     },
     "execution_count": 41,
     "metadata": {},
     "output_type": "execute_result"
    }
   ],
   "source": [
    "# This is the best pipeline we've found, \n",
    "# * median or mean imputer (this makes sense, the median/mean of a normal distribution are the same), \n",
    "# * standard scaler, \n",
    "# * threshold to the 16 best features\n",
    "# * Support Vector Regression using a radial-basis function and C=10\n",
    "\n",
    "prod_svc.fit(dfd, target)"
   ]
  },
  {
   "cell_type": "code",
   "execution_count": 42,
   "metadata": {
    "collapsed": false
   },
   "outputs": [
    {
     "name": "stdout",
     "output_type": "stream",
     "text": [
      "Index(['day', 'dwelling_units_gained_or_lost', 'permit_value',\n",
      "       'structure_class', 'year', 'res_non_Non-Residential',\n",
      "       'res_non_Residential', 'sf_mf_Multifamily', 'sf_mf_Single Family'],\n",
      "      dtype='object')\n"
     ]
    }
   ],
   "source": [
    "# Let's review the best components\n",
    "\n",
    "selected_features = prod_svc.named_steps['kbest'].get_support()\n",
    "print(dfd.columns[selected_features])"
   ]
  },
  {
   "cell_type": "code",
   "execution_count": 43,
   "metadata": {
    "collapsed": false,
    "scrolled": true
   },
   "outputs": [
    {
     "name": "stderr",
     "output_type": "stream",
     "text": [
      "/home/mdboom/.pyenv/versions/miniconda3-3.16.0/lib/python3.4/site-packages/sklearn/metrics/regression.py:232: DeprecationWarning: numpy boolean subtract, the `-` operator, is deprecated, use the bitwise_xor, the `^` operator, or the logical_xor function instead.\n",
      "  output_errors = np.average((y_true - y_pred) ** 2, axis=0,\n"
     ]
    },
    {
     "data": {
      "text/plain": [
       "0.16626253358673571"
      ]
     },
     "execution_count": 43,
     "metadata": {},
     "output_type": "execute_result"
    }
   ],
   "source": [
    "# The best pipeline fits its training data with an MSE of 1.33\n",
    "# Assuming that the withheld data is a non-pathological sample,\n",
    "# the MSE of the fit to the withheld data should be between 3.2 and 1.33\n",
    "\n",
    "mean_squared_error(target, prod_svc.predict(dfd))"
   ]
  },
  {
   "cell_type": "code",
   "execution_count": 45,
   "metadata": {
    "collapsed": false
   },
   "outputs": [
    {
     "name": "stdout",
     "output_type": "stream",
     "text": [
      "1969 2008\n",
      "-1.0 34823026.0\n"
     ]
    }
   ],
   "source": [
    "# Plot the decision boundary. For that, we will assign a color to each\n",
    "# point in the mesh [x_min, m_max]x[y_min, y_max].\n",
    "\n",
    "# create a mesh to plot in\n",
    "x_min, x_max = dfd['year'].min() - 1, dfd['year'].max() + 1\n",
    "y_min, y_max = dfd['permit_value'].min() - 1, dfd['permit_value'].max() + 1\n",
    "print(x_min, x_max)\n",
    "print(y_min, y_max)"
   ]
  },
  {
   "cell_type": "code",
   "execution_count": 59,
   "metadata": {
    "collapsed": false
   },
   "outputs": [
    {
     "data": {
      "text/plain": [
       "LinearSVC(C=1.0, class_weight=None, dual=True, fit_intercept=True,\n",
       "     intercept_scaling=1, loss='squared_hinge', max_iter=1000,\n",
       "     multi_class='ovr', penalty='l2', random_state=None, tol=0.0001,\n",
       "     verbose=0)"
      ]
     },
     "execution_count": 59,
     "metadata": {},
     "output_type": "execute_result"
    }
   ],
   "source": [
    "svc_prod = LinearSVC()\n",
    "svc_prod.fit(dfd[[\"permit_value\", \"year\"]], target)"
   ]
  },
  {
   "cell_type": "code",
   "execution_count": 60,
   "metadata": {
    "collapsed": false
   },
   "outputs": [
    {
     "data": {
      "text/plain": [
       "<matplotlib.colorbar.Colorbar at 0x7f302822b9b0>"
      ]
     },
     "execution_count": 60,
     "metadata": {},
     "output_type": "execute_result"
    },
    {
     "data": {
      "image/png": "[encoded data removed]",
      "text/plain": [
       "<matplotlib.figure.Figure at 0x7f3027baa780>"
      ]
     },
     "metadata": {},
     "output_type": "display_data"
    }
   ],
   "source": [
    "xx, yy = np.meshgrid(np.arange(x_min, x_max, 1),\n",
    "                     np.arange(y_min, y_max, 50))\n",
    "\n",
    "Z = svc_prod.predict(np.c_[xx.ravel(), yy.ravel()])\n",
    "\n",
    "# Put the result into a color plot\n",
    "Z = Z.reshape(xx.shape)\n",
    "plt.contourf(xx, yy, Z, cmap=plt.cm.Paired, alpha=0.8)\n",
    "plt.colorbar()"
   ]
  },
  {
   "cell_type": "code",
   "execution_count": 53,
   "metadata": {
    "collapsed": false
   },
   "outputs": [
    {
     "ename": "RuntimeError",
     "evalue": "No mappable was found to use for colorbar creation. First define a mappable such as an image (with imshow) or a contour set (with contourf).",
     "output_type": "error",
     "traceback": [
      "\u001b[1;31m---------------------------------------------------------------------------\u001b[0m",
      "\u001b[1;31mRuntimeError\u001b[0m                              Traceback (most recent call last)",
      "\u001b[1;32m<ipython-input-53-194bafcd0567>\u001b[0m in \u001b[0;36m<module>\u001b[1;34m()\u001b[0m\n\u001b[1;32m----> 1\u001b[1;33m \u001b[0mplt\u001b[0m\u001b[1;33m.\u001b[0m\u001b[0mcolorbar\u001b[0m\u001b[1;33m(\u001b[0m\u001b[1;33m)\u001b[0m\u001b[1;33m\u001b[0m\u001b[0m\n\u001b[0m",
      "\u001b[1;32m/home/mdboom/Work/builds/matplotlib/lib/matplotlib/pyplot.py\u001b[0m in \u001b[0;36mcolorbar\u001b[1;34m(mappable, cax, ax, **kw)\u001b[0m\n\u001b[0;32m   2228\u001b[0m         \u001b[0mmappable\u001b[0m \u001b[1;33m=\u001b[0m \u001b[0mgci\u001b[0m\u001b[1;33m(\u001b[0m\u001b[1;33m)\u001b[0m\u001b[1;33m\u001b[0m\u001b[0m\n\u001b[0;32m   2229\u001b[0m         \u001b[1;32mif\u001b[0m \u001b[0mmappable\u001b[0m \u001b[1;32mis\u001b[0m \u001b[1;32mNone\u001b[0m\u001b[1;33m:\u001b[0m\u001b[1;33m\u001b[0m\u001b[0m\n\u001b[1;32m-> 2230\u001b[1;33m             raise RuntimeError('No mappable was found to use for colorbar '\n\u001b[0m\u001b[0;32m   2231\u001b[0m                                \u001b[1;34m'creation. First define a mappable such as '\u001b[0m\u001b[1;33m\u001b[0m\u001b[0m\n\u001b[0;32m   2232\u001b[0m                                \u001b[1;34m'an image (with imshow) or a contour set ('\u001b[0m\u001b[1;33m\u001b[0m\u001b[0m\n",
      "\u001b[1;31mRuntimeError\u001b[0m: No mappable was found to use for colorbar creation. First define a mappable such as an image (with imshow) or a contour set (with contourf)."
     ]
    },
    {
     "data": {
      "text/plain": [
       "<matplotlib.figure.Figure at 0x7f3027d06470>"
      ]
     },
     "metadata": {},
     "output_type": "display_data"
    }
   ],
   "source": [
    "plt.colorbar()"
   ]
  },
  {
   "cell_type": "code",
   "execution_count": null,
   "metadata": {
    "collapsed": true
   },
   "outputs": [],
   "source": []
  }
 ],
 "metadata": {
  "kernelspec": {
   "display_name": "Python 3",
   "language": "python",
   "name": "python3"
  },
  "language_info": {
   "codemirror_mode": {
    "name": "ipython",
    "version": 3
   },
   "file_extension": ".py",
   "mimetype": "text/x-python",
   "name": "python",
   "nbconvert_exporter": "python",
   "pygments_lexer": "ipython3",
   "version": "3.4.4"
  }
 },
 "nbformat": 4,
 "nbformat_minor": 0
}
